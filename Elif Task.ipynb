{
 "cells": [
  {
   "cell_type": "markdown",
   "id": "529f2ac0-94a2-462d-811a-8265f897893d",
   "metadata": {},
   "source": [
    "#### Question\n",
    "Create a function to give variaous operation on text\n",
    "\n",
    "* op1 =  join text\n",
    "* op2 = trim text\n",
    "* op3 = substiute text\n",
    "* op4 = cut and return specific postion of stringg\r",
    "ration"
   ]
  },
  {
   "cell_type": "code",
   "execution_count": 1,
   "id": "f6850bd3-0bc3-4f76-ae21-dc33052a0670",
   "metadata": {},
   "outputs": [],
   "source": [
    "def text_operations(text, operation, *args):\n",
    "    \n",
    "    if operation == 'join':\n",
    "        return ' '.join(args)\n",
    "        \n",
    "    elif operation == 'trim':\n",
    "        return text.strip()\n",
    "        \n",
    "    elif operation == 'substitute':\n",
    "        old_substring, new_substring = args\n",
    "        return text.replace(old_substring, new_substring)\n",
    "        \n",
    "    elif operation == 'cut':\n",
    "        start, end = args\n",
    "        return text[start:end]\n",
    "        \n",
    "    else:\n",
    "        return \"Invalid operation!\""
   ]
  },
  {
   "cell_type": "code",
   "execution_count": 13,
   "id": "71cdb8c8-040f-482f-a292-d448c395ece6",
   "metadata": {},
   "outputs": [],
   "source": [
    "text = \"       Trim text         \""
   ]
  },
  {
   "cell_type": "markdown",
   "id": "ebb6188a-42df-4dc5-b7b6-1a031dc205ac",
   "metadata": {},
   "source": [
    "#### *args \n",
    "* This term show up as parameters in function definitions.\n",
    "* When a function parameter starts(*) with an asterisk, it allows for an arbitrary number of arguments, and the function takes them in as a tuple of values."
   ]
  },
  {
   "cell_type": "markdown",
   "id": "9c1f9478-5455-46a1-b0a6-0017c6b430b8",
   "metadata": {},
   "source": [
    "#### op1 = Join Text"
   ]
  },
  {
   "cell_type": "code",
   "execution_count": 2,
   "id": "6cf9ec9a-10ef-4c57-966c-a35bf2efa467",
   "metadata": {},
   "outputs": [
    {
     "name": "stdout",
     "output_type": "stream",
     "text": [
      "Join text for task\n"
     ]
    }
   ],
   "source": [
    "print(text_operations(None, 'join', \"Join\", \"text\", \"for\", \"task\"))"
   ]
  },
  {
   "cell_type": "markdown",
   "id": "210a238e-4d0a-4543-9c25-497a1e20e3f2",
   "metadata": {},
   "source": [
    "#### op2 = trim text"
   ]
  },
  {
   "cell_type": "code",
   "execution_count": 14,
   "id": "b4592ece-1f9e-4ec5-b5ff-748f44833065",
   "metadata": {},
   "outputs": [
    {
     "name": "stdout",
     "output_type": "stream",
     "text": [
      "Trim text\n"
     ]
    }
   ],
   "source": [
    "print(text_operations(text, 'trim'))"
   ]
  },
  {
   "cell_type": "markdown",
   "id": "d2d8ac73-67b2-4311-bf48-2333d7917d56",
   "metadata": {},
   "source": [
    "#### op3 = substiute text"
   ]
  },
  {
   "cell_type": "code",
   "execution_count": 18,
   "id": "04a9c918-4ee9-4fb7-8b13-286ad8fd5186",
   "metadata": {},
   "outputs": [
    {
     "name": "stdout",
     "output_type": "stream",
     "text": [
      "Substitute text\n"
     ]
    }
   ],
   "source": [
    "print(text_operations(text, 'substitute', 'Trim', 'Substitute').strip())"
   ]
  },
  {
   "cell_type": "markdown",
   "id": "bcf7125b-557e-469b-8628-71a5cb407b4c",
   "metadata": {},
   "source": [
    "#### op4 = cut and return specific postion of stringg ration"
   ]
  },
  {
   "cell_type": "code",
   "execution_count": 23,
   "id": "5cd65f88-644c-4945-b7b5-150415e06796",
   "metadata": {},
   "outputs": [
    {
     "name": "stdout",
     "output_type": "stream",
     "text": [
      "Tri\n"
     ]
    }
   ],
   "source": [
    "print(text_operations(text, 'cut', 7, 10))"
   ]
  },
  {
   "cell_type": "markdown",
   "id": "afa07434-43ca-4d75-a1c0-67978bd0dfd9",
   "metadata": {},
   "source": [
    "### Join Text"
   ]
  },
  {
   "cell_type": "code",
   "execution_count": 31,
   "id": "e8707fd8-1ae2-4aae-96e4-b80aae47621b",
   "metadata": {},
   "outputs": [
    {
     "name": "stdout",
     "output_type": "stream",
     "text": [
      "join text using def\n"
     ]
    }
   ],
   "source": [
    "def join_text(text):\n",
    "    return ' '.join(text)\n",
    "\n",
    "# Example usage:\n",
    "text_1 = [\"join\", \"text\", \"using def\"]\n",
    "joined_text = join_text(text_1)\n",
    "print(joined_text)"
   ]
  },
  {
   "cell_type": "markdown",
   "id": "7eface1f-6a3f-48a5-92da-896e6f426f13",
   "metadata": {},
   "source": [
    "### Cut and return specific postion of stringg ration"
   ]
  },
  {
   "cell_type": "code",
   "execution_count": 35,
   "id": "78edc0e5-d89e-40cd-b18d-a702c911fc90",
   "metadata": {},
   "outputs": [
    {
     "name": "stdout",
     "output_type": "stream",
     "text": [
      "return specific po\n"
     ]
    }
   ],
   "source": [
    "def cut_text_by_position(text, start, end):\n",
    "    return text[start:end]\n",
    "\n",
    "# Example usage:\n",
    "text_2 = \"Cut and return specific postion of stringg ration\"\n",
    "cut_part = cut_text_by_position(text_2, 8, 26)\n",
    "print(cut_part)"
   ]
  }
 ],
 "metadata": {
  "kernelspec": {
   "display_name": "Python 3 (ipykernel)",
   "language": "python",
   "name": "python3"
  },
  "language_info": {
   "codemirror_mode": {
    "name": "ipython",
    "version": 3
   },
   "file_extension": ".py",
   "mimetype": "text/x-python",
   "name": "python",
   "nbconvert_exporter": "python",
   "pygments_lexer": "ipython3",
   "version": "3.11.7"
  }
 },
 "nbformat": 4,
 "nbformat_minor": 5
}
