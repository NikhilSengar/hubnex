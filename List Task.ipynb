{
 "cells": [
  {
   "cell_type": "markdown",
   "id": "d4efe20d-51a7-483c-9eea-a50ca5814489",
   "metadata": {},
   "source": [
    "## List\n",
    "* Lists are constructed with brackets [] and commas separating every element in the list.\n",
    "*  they are mutable, meaning the elements inside a list can be changed."
   ]
  },
  {
   "cell_type": "markdown",
   "id": "768dc1bc-00ba-4b0e-b499-fe3d9f17bc39",
   "metadata": {},
   "source": [
    "# List Functions"
   ]
  },
  {
   "cell_type": "markdown",
   "id": "2f4b40cf-f839-4de5-9518-6cba651501b4",
   "metadata": {},
   "source": [
    "### len()\n",
    "* len() function returns the length of the list(number of element inside the list)."
   ]
  },
  {
   "cell_type": "code",
   "execution_count": 5,
   "id": "06e699bf-d95b-40ad-9056-915a2dfa67c2",
   "metadata": {},
   "outputs": [
    {
     "data": {
      "text/plain": [
       "5"
      ]
     },
     "execution_count": 5,
     "metadata": {},
     "output_type": "execute_result"
    }
   ],
   "source": [
    "list_1 = ['My string',23,10.32,'n',True]\n",
    "len(list_1)"
   ]
  },
  {
   "cell_type": "markdown",
   "id": "f554d8bd-3b6e-4e6a-b5c7-4a1316e4b282",
   "metadata": {},
   "source": [
    "### min()\r",
    "* min() function  returns the minimum element of the list"
   ]
  },
  {
   "cell_type": "code",
   "execution_count": 7,
   "id": "a529f721-fe0b-4c5d-ab21-53b1686fc6db",
   "metadata": {},
   "outputs": [
    {
     "data": {
      "text/plain": [
       "3"
      ]
     },
     "execution_count": 7,
     "metadata": {},
     "output_type": "execute_result"
    }
   ],
   "source": [
    "list_2 = [6, 29, 15, 3, 5.5]\n",
    "min(list_2)"
   ]
  },
  {
   "cell_type": "markdown",
   "id": "6101311d-dd0f-488b-a1f7-667e88440115",
   "metadata": {},
   "source": [
    "### max()\n",
    "* max() function returns the maximum element of the list"
   ]
  },
  {
   "cell_type": "code",
   "execution_count": 8,
   "id": "925a01a1-7145-4373-9bb4-1e087c9d5032",
   "metadata": {},
   "outputs": [
    {
     "data": {
      "text/plain": [
       "'x'"
      ]
     },
     "execution_count": 8,
     "metadata": {},
     "output_type": "execute_result"
    }
   ],
   "source": [
    "list_3 = ['x', 's', 'e', 'r', 'f', 'w']\n",
    "max(list_3)"
   ]
  },
  {
   "cell_type": "markdown",
   "id": "d67b47ed-6a53-402b-934d-dd45272247f4",
   "metadata": {},
   "source": [
    "### sum()\n",
    "* sum() function returns the sum of the elements of the list"
   ]
  },
  {
   "cell_type": "code",
   "execution_count": 9,
   "id": "31b8a654-3ff2-462d-879e-df0fcb1a1660",
   "metadata": {},
   "outputs": [
    {
     "data": {
      "text/plain": [
       "21.5"
      ]
     },
     "execution_count": 9,
     "metadata": {},
     "output_type": "execute_result"
    }
   ],
   "source": [
    "list_4 = [6, 2, 5, 3, 5.5]\n",
    "sum(list_4)"
   ]
  },
  {
   "cell_type": "markdown",
   "id": "b73fbc71-e62f-40dd-a7e1-4622e9b0b5dd",
   "metadata": {},
   "source": [
    "### sorted()\n",
    "* It returns the sorted list"
   ]
  },
  {
   "cell_type": "code",
   "execution_count": 10,
   "id": "fb2fcb92-0d2e-46ca-ad32-0907d800fbf4",
   "metadata": {},
   "outputs": [
    {
     "data": {
      "text/plain": [
       "[2, 3, 4, 5, 5.5, 6, 6, 8, 51]"
      ]
     },
     "execution_count": 10,
     "metadata": {},
     "output_type": "execute_result"
    }
   ],
   "source": [
    "list_5 = [6, 2, 5, 3, 5.5, 6 ,4, 8, 51]\n",
    "sorted(list_5)"
   ]
  },
  {
   "cell_type": "markdown",
   "id": "5ccd0579-a76c-4cb8-926e-1581322861f1",
   "metadata": {},
   "source": [
    "# List Methods"
   ]
  },
  {
   "cell_type": "markdown",
   "id": "4093bed6-fdb8-4e90-b22e-778d3f63b7d6",
   "metadata": {},
   "source": [
    "### count()\n",
    "* It will returns the total occurrence of a same element in the list"
   ]
  },
  {
   "cell_type": "code",
   "execution_count": 12,
   "id": "2ef7d5a0-bd44-4c27-9fdb-32b090ed2e65",
   "metadata": {},
   "outputs": [
    {
     "data": {
      "text/plain": [
       "2"
      ]
     },
     "execution_count": 12,
     "metadata": {},
     "output_type": "execute_result"
    }
   ],
   "source": [
    "l1 = [1, 2, 9, 1, 1, 'count', 16, 6, 8, 'count', 2.73, 'element']\n",
    "l1.count('count')"
   ]
  },
  {
   "cell_type": "markdown",
   "id": "c7125c5b-f903-4920-bafe-2d7d48c0c632",
   "metadata": {},
   "source": [
    "### index()\n",
    "* It will returns the index of a specified element."
   ]
  },
  {
   "cell_type": "code",
   "execution_count": 15,
   "id": "58adf1d5-34a2-4c83-ae69-e3475ca8eaa0",
   "metadata": {},
   "outputs": [
    {
     "data": {
      "text/plain": [
       "3"
      ]
     },
     "execution_count": 15,
     "metadata": {},
     "output_type": "execute_result"
    }
   ],
   "source": [
    "l2 = [1, 2, 1, 'count', 16, 6, 8, 'count', 2.73, 'element']\n",
    "l2.index('count')   # if the value will repeat then it will take first occurance of the element."
   ]
  },
  {
   "cell_type": "markdown",
   "id": "e9ba0ab0-88e2-4c86-a759-0625366cbbab",
   "metadata": {},
   "source": [
    "### append()\n",
    "* This method permanently add an item to the end of a list."
   ]
  },
  {
   "cell_type": "code",
   "execution_count": 17,
   "id": "481d13a2-2a13-4c18-9ab2-7dbfbddcbbe4",
   "metadata": {},
   "outputs": [
    {
     "name": "stdout",
     "output_type": "stream",
     "text": [
      "[1, 2, 8, 2.73, 'element', 'Append element in l3']\n"
     ]
    }
   ],
   "source": [
    "l3 = [1, 2, 8, 2.73, 'element']\n",
    "l3.append('Append element in l3')\n",
    "print(l3)"
   ]
  },
  {
   "cell_type": "markdown",
   "id": "26b6cccc-4fe9-4532-b578-b21e511d001e",
   "metadata": {},
   "source": [
    "### extend()\n",
    "* This method use to merge a list to an existing list."
   ]
  },
  {
   "cell_type": "code",
   "execution_count": 20,
   "id": "4ed0e531-0f91-4135-89a1-9b8d5271729b",
   "metadata": {},
   "outputs": [
    {
     "data": {
      "text/plain": [
       "[5, 65, 15, 'extend', 'list', [2, 5, 6], 'extend in l4', 3456, False]"
      ]
     },
     "execution_count": 20,
     "metadata": {},
     "output_type": "execute_result"
    }
   ],
   "source": [
    "l4 = [5, 65, 15, 'extend', 'list', [2,5,6]]\n",
    "l4.extend(['extend in l4', 3456, False])\n",
    "l4"
   ]
  },
  {
   "cell_type": "markdown",
   "id": "c0d53ebb-5f3f-4764-b16c-2cbe10579ef5",
   "metadata": {},
   "source": [
    "### pop()\n",
    "* It will remove the element at the last index, but we can also specify which index to pop off."
   ]
  },
  {
   "cell_type": "code",
   "execution_count": 21,
   "id": "76c66bf4-8f96-4477-9893-75f1a1412fb0",
   "metadata": {},
   "outputs": [
    {
     "data": {
      "text/plain": [
       "'list'"
      ]
     },
     "execution_count": 21,
     "metadata": {},
     "output_type": "execute_result"
    }
   ],
   "source": [
    "l5 = [5, 65, 15, 'extend', 'list', [2, 5, 6], 'extend in l4', 3456, False]\n",
    "l5.pop(4)"
   ]
  },
  {
   "cell_type": "markdown",
   "id": "83049d97-4926-40b5-abb8-5b096fafe19e",
   "metadata": {},
   "source": [
    "### remove()\n",
    "* This method use to remove element from the list."
   ]
  },
  {
   "cell_type": "code",
   "execution_count": 23,
   "id": "f62a1914-ee0f-4c65-97e0-92a63fa6f777",
   "metadata": {},
   "outputs": [
    {
     "data": {
      "text/plain": [
       "[5, 65, 15, 'remove', 'remove element from the list', 3456, False]"
      ]
     },
     "execution_count": 23,
     "metadata": {},
     "output_type": "execute_result"
    }
   ],
   "source": [
    "l6 = [5, 65, 15, 'remove', [2, 5, 6], 'remove element from the list', 3456, False]\n",
    "l6.remove([2, 5, 6])\n",
    "l6"
   ]
  },
  {
   "cell_type": "markdown",
   "id": "709c8fe0-4edd-41a5-b77f-b2cb2db03517",
   "metadata": {},
   "source": [
    "### sort()\n",
    "* This method will sort list in ascending or descending order."
   ]
  },
  {
   "cell_type": "code",
   "execution_count": 26,
   "id": "c80a3dd3-cf72-4c49-b01d-73357190a889",
   "metadata": {},
   "outputs": [
    {
     "data": {
      "text/plain": [
       "[1, 3, 5, 6, 9, 10, 45]"
      ]
     },
     "execution_count": 26,
     "metadata": {},
     "output_type": "execute_result"
    }
   ],
   "source": [
    "l7 = [6, 9, 1, 10, 3, 5, 45]\n",
    "l7.sort()\n",
    "l7"
   ]
  },
  {
   "cell_type": "code",
   "execution_count": 28,
   "id": "7ebc1c8f-4ea3-4424-aa71-e939618af667",
   "metadata": {},
   "outputs": [
    {
     "data": {
      "text/plain": [
       "[45, 10, 9, 6, 5, 3, 1]"
      ]
     },
     "execution_count": 28,
     "metadata": {},
     "output_type": "execute_result"
    }
   ],
   "source": [
    "l7.sort(reverse=True)\n",
    "l7"
   ]
  },
  {
   "cell_type": "markdown",
   "id": "5197fddb-063f-4ad6-b69c-24aaaafa6bd4",
   "metadata": {},
   "source": [
    "### reverse()\n",
    "* This method reverse the list."
   ]
  },
  {
   "cell_type": "code",
   "execution_count": 31,
   "id": "9161ec97-715c-42ea-817a-fe97ea091bf3",
   "metadata": {},
   "outputs": [
    {
     "data": {
      "text/plain": [
       "[454, 589, 'reverse', True, 456, 8, 5, 2, 'ababab']"
      ]
     },
     "execution_count": 31,
     "metadata": {},
     "output_type": "execute_result"
    }
   ],
   "source": [
    "l8 = ['ababab',2, 5, 8, 456, True, 'reverse', 589, 454]\n",
    "l8.reverse()\n",
    "l8"
   ]
  },
  {
   "cell_type": "markdown",
   "id": "9824049e-0692-4c78-ae46-d7e930cca0d3",
   "metadata": {},
   "source": [
    "### copy()\n",
    "* This method returns a copy of a list."
   ]
  },
  {
   "cell_type": "code",
   "execution_count": 33,
   "id": "d4cae606-5f00-4388-86aa-feb712a9b1e8",
   "metadata": {},
   "outputs": [
    {
     "data": {
      "text/plain": [
       "[454, 589, 'reverse', True, 456, 8, 5, 2, 'ababab']"
      ]
     },
     "execution_count": 33,
     "metadata": {},
     "output_type": "execute_result"
    }
   ],
   "source": [
    "l9 = l8.copy() \n",
    "l9"
   ]
  },
  {
   "cell_type": "markdown",
   "id": "32ea4f53-f0f0-4d9c-aaf9-5c25dcfa3a52",
   "metadata": {},
   "source": [
    "### clear()\n",
    "* It use to remove all elements from the list."
   ]
  },
  {
   "cell_type": "code",
   "execution_count": 34,
   "id": "8fd6a6a5-acd2-434f-8cbd-dfce4264c818",
   "metadata": {},
   "outputs": [],
   "source": [
    "l10 = l9.clear()\n",
    "l10"
   ]
  },
  {
   "cell_type": "code",
   "execution_count": null,
   "id": "381ee79d-29b4-4af6-abbf-fafa1a52f203",
   "metadata": {},
   "outputs": [],
   "source": []
  }
 ],
 "metadata": {
  "kernelspec": {
   "display_name": "Python 3 (ipykernel)",
   "language": "python",
   "name": "python3"
  },
  "language_info": {
   "codemirror_mode": {
    "name": "ipython",
    "version": 3
   },
   "file_extension": ".py",
   "mimetype": "text/x-python",
   "name": "python",
   "nbconvert_exporter": "python",
   "pygments_lexer": "ipython3",
   "version": "3.11.7"
  }
 },
 "nbformat": 4,
 "nbformat_minor": 5
}
