{
 "cells": [
  {
   "cell_type": "markdown",
   "id": "dc4f640b-0952-48ab-ab92-74a7e02f8618",
   "metadata": {},
   "source": [
    "## Tuple\n",
    "* Tuple is immutable meaning they can not be changed.\n",
    "* The construction of a tuples use () with elements separated by commas."
   ]
  },
  {
   "cell_type": "markdown",
   "id": "ba58a82b-266b-41ab-9965-8e6a19bacb74",
   "metadata": {},
   "source": [
    "## Tuple Functions"
   ]
  },
  {
   "cell_type": "markdown",
   "id": "d4375aa0-6f22-4b88-a89b-4d3c880181b1",
   "metadata": {},
   "source": [
    "#### index()\n",
    "* The index() method returns the index of a specified element."
   ]
  },
  {
   "cell_type": "code",
   "execution_count": 3,
   "id": "a39a5c9e-9001-4185-93fa-0647dcbe49ca",
   "metadata": {},
   "outputs": [],
   "source": [
    "tuple_1 = (1,2,3,4,5,6,1,1,2)"
   ]
  },
  {
   "cell_type": "code",
   "execution_count": 6,
   "id": "300320c8-318a-46fb-b1fe-e192dbde23b8",
   "metadata": {},
   "outputs": [
    {
     "data": {
      "text/plain": [
       "4"
      ]
     },
     "execution_count": 6,
     "metadata": {},
     "output_type": "execute_result"
    }
   ],
   "source": [
    "tuple_1.index(5)"
   ]
  },
  {
   "cell_type": "markdown",
   "id": "b53b5cd7-45c3-4774-936a-53a24871699c",
   "metadata": {},
   "source": [
    "#### count()\n",
    "* The count() method use for count the total occurrence of any element in the tuple."
   ]
  },
  {
   "cell_type": "code",
   "execution_count": 7,
   "id": "d4f36450-5261-4792-a046-181a1c2ebd6d",
   "metadata": {},
   "outputs": [],
   "source": [
    "tuple_2 = (1,2,3,4,5,6,1,1,2,5,6,7,6)"
   ]
  },
  {
   "cell_type": "code",
   "execution_count": 9,
   "id": "0e190372-881a-478d-8c34-8591d4f2b4fa",
   "metadata": {},
   "outputs": [
    {
     "data": {
      "text/plain": [
       "3"
      ]
     },
     "execution_count": 9,
     "metadata": {},
     "output_type": "execute_result"
    }
   ],
   "source": [
    "tuple_2.count(6)"
   ]
  },
  {
   "cell_type": "markdown",
   "id": "c5c7dec1-98bb-4573-b070-9690d0e1ef46",
   "metadata": {},
   "source": [
    "#### len()\n",
    "* len() function returns the length of the tuple(number of element inside the tuple)."
   ]
  },
  {
   "cell_type": "code",
   "execution_count": 3,
   "id": "a2756e20-62d7-4e43-bf52-b38c75485bc1",
   "metadata": {},
   "outputs": [
    {
     "data": {
      "text/plain": [
       "5"
      ]
     },
     "execution_count": 3,
     "metadata": {},
     "output_type": "execute_result"
    }
   ],
   "source": [
    "tuple_3 = ('My string',23,10.32,'n',True)\n",
    "len(tuple_3)"
   ]
  },
  {
   "cell_type": "markdown",
   "id": "ccc745de-7bb2-4b7f-9666-ee1a29b4a282",
   "metadata": {},
   "source": [
    "#### sorted()\n",
    "* It will sort the element inside the tuple."
   ]
  },
  {
   "cell_type": "code",
   "execution_count": 5,
   "id": "eab80e7b-1f60-4315-833e-fa7093468665",
   "metadata": {},
   "outputs": [
    {
     "data": {
      "text/plain": [
       "[1, 2, 3, 5, 6, 6, 6, 27, 28, 41, 54, 54, 111]"
      ]
     },
     "execution_count": 5,
     "metadata": {},
     "output_type": "execute_result"
    }
   ],
   "source": [
    "tuple_4 = (111,28,3,54,5,6,41,1,2,54,6,27,6)\n",
    "sorted(tuple_4)"
   ]
  },
  {
   "cell_type": "code",
   "execution_count": null,
   "id": "25581036-8aa3-4570-a946-cb04a012ca80",
   "metadata": {},
   "outputs": [],
   "source": []
  }
 ],
 "metadata": {
  "kernelspec": {
   "display_name": "Python 3 (ipykernel)",
   "language": "python",
   "name": "python3"
  },
  "language_info": {
   "codemirror_mode": {
    "name": "ipython",
    "version": 3
   },
   "file_extension": ".py",
   "mimetype": "text/x-python",
   "name": "python",
   "nbconvert_exporter": "python",
   "pygments_lexer": "ipython3",
   "version": "3.11.7"
  }
 },
 "nbformat": 4,
 "nbformat_minor": 5
}
