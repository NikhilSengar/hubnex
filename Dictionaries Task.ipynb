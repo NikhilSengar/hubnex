{
 "cells": [
  {
   "cell_type": "markdown",
   "id": "69f8fc83-efb8-44c6-ab24-f6d1a94e164b",
   "metadata": {},
   "source": [
    "* Dictionary consists of a key and there associated value.\n",
    "* Dictionary object always has elements as key-value pairs."
   ]
  },
  {
   "cell_type": "code",
   "execution_count": 2,
   "id": "57f899bf-316e-49fb-9c78-a420eaedf413",
   "metadata": {},
   "outputs": [
    {
     "data": {
      "text/plain": [
       "'value2'"
      ]
     },
     "execution_count": 2,
     "metadata": {},
     "output_type": "execute_result"
    }
   ],
   "source": [
    "# Eg.\n",
    "dict = {'key1':'value1','key2':'value2'}\n",
    "dict['key2']"
   ]
  },
  {
   "cell_type": "markdown",
   "id": "7cf6aecc-c172-415d-a2a7-42cf73dfde72",
   "metadata": {},
   "source": [
    "# Dictionary Methods"
   ]
  },
  {
   "cell_type": "code",
   "execution_count": 11,
   "id": "295b47b9-7e0b-4d7a-84f3-100917792c94",
   "metadata": {},
   "outputs": [],
   "source": [
    "dict_1 = {'Name':'Ram', 'Place':'Nagpur', 'Weapon' : 'Sword', 1:2, 'Brothers' : ['R1', 'R2'], 'abc' : {1:2, 4:5}}"
   ]
  },
  {
   "cell_type": "code",
   "execution_count": 12,
   "id": "69ffceea-38a7-478b-8334-570eb024a01e",
   "metadata": {},
   "outputs": [
    {
     "data": {
      "text/plain": [
       "'Nagpur'"
      ]
     },
     "execution_count": 12,
     "metadata": {},
     "output_type": "execute_result"
    }
   ],
   "source": [
    "dict_1['Place']"
   ]
  },
  {
   "cell_type": "markdown",
   "id": "777ed5cc-f3d0-4158-a773-6c951763915a",
   "metadata": {},
   "source": [
    "### keys()\n",
    "* It Returns the list of keys in the dictionary object."
   ]
  },
  {
   "cell_type": "code",
   "execution_count": 13,
   "id": "d5482e07-1b29-4d14-9105-34839d56e057",
   "metadata": {},
   "outputs": [
    {
     "data": {
      "text/plain": [
       "dict_keys(['Name', 'Place', 'Weapon', 1, 'Brothers', 'abc'])"
      ]
     },
     "execution_count": 13,
     "metadata": {},
     "output_type": "execute_result"
    }
   ],
   "source": [
    "dict_1.keys()"
   ]
  },
  {
   "cell_type": "markdown",
   "id": "52a0bba5-c452-4545-bd5b-2ded9988c0a5",
   "metadata": {},
   "source": [
    "### values()\n",
    "* This method returns the list of values in the dictionary object."
   ]
  },
  {
   "cell_type": "code",
   "execution_count": 14,
   "id": "b566bc65-eaeb-46f0-ac39-821f75f6c0e3",
   "metadata": {},
   "outputs": [
    {
     "data": {
      "text/plain": [
       "dict_values(['Ram', 'Nagpur', 'Sword', 2, ['R1', 'R2'], {1: 2, 4: 5}])"
      ]
     },
     "execution_count": 14,
     "metadata": {},
     "output_type": "execute_result"
    }
   ],
   "source": [
    "dict_1.values()"
   ]
  },
  {
   "cell_type": "markdown",
   "id": "503a25c3-58b2-412c-b3f0-e1e0c533d4cf",
   "metadata": {},
   "source": [
    "### items()\n",
    "* This method returns the list of the keys and values."
   ]
  },
  {
   "cell_type": "code",
   "execution_count": 15,
   "id": "564df657-e97e-4e54-b2fc-7cdb022932ec",
   "metadata": {},
   "outputs": [
    {
     "data": {
      "text/plain": [
       "[('Name', 'Ram'),\n",
       " ('Place', 'Nagpur'),\n",
       " ('Weapon', 'Sword'),\n",
       " (1, 2),\n",
       " ('Brothers', ['R1', 'R2']),\n",
       " ('abc', {1: 2, 4: 5})]"
      ]
     },
     "execution_count": 15,
     "metadata": {},
     "output_type": "execute_result"
    }
   ],
   "source": [
    "# dict_1.items()\n",
    "list(dict_1.items())"
   ]
  },
  {
   "cell_type": "markdown",
   "id": "e35a5316-87a1-4577-ad67-6998c79b1c7d",
   "metadata": {},
   "source": [
    "### get()\n",
    "* This method takes the key as an argument."
   ]
  },
  {
   "cell_type": "code",
   "execution_count": 16,
   "id": "a51f009b-093e-4eab-ba73-5d419ea56e5a",
   "metadata": {
    "scrolled": true
   },
   "outputs": [
    {
     "data": {
      "text/plain": [
       "'Nagpur'"
      ]
     },
     "execution_count": 16,
     "metadata": {},
     "output_type": "execute_result"
    }
   ],
   "source": [
    "dict_1.get('Place')"
   ]
  },
  {
   "cell_type": "code",
   "execution_count": null,
   "id": "6d8e052f-a87a-4cac-90dc-fe52fff78352",
   "metadata": {},
   "outputs": [],
   "source": []
  },
  {
   "cell_type": "code",
   "execution_count": 19,
   "id": "4c98c29d-7b96-457d-8755-e0ca1d881f65",
   "metadata": {},
   "outputs": [],
   "source": [
    "dict_2 = {'Name':'Raju','Skills':['Python', 'PowerBi', 'SQL', 'Machine Learning'], 'Year':[2023], 'Result':'Pass'}"
   ]
  },
  {
   "cell_type": "code",
   "execution_count": 20,
   "id": "b735111c-4a39-496f-9281-6c40add5b408",
   "metadata": {},
   "outputs": [
    {
     "data": {
      "text/plain": [
       "4"
      ]
     },
     "execution_count": 20,
     "metadata": {},
     "output_type": "execute_result"
    }
   ],
   "source": [
    "len(dict_2.keys())"
   ]
  },
  {
   "cell_type": "markdown",
   "id": "bafa4b48-20ff-43fc-ac98-4ff59aa97b12",
   "metadata": {},
   "source": [
    "### update()\n",
    "* By using this method we can add an element which is a key-value pair.\n"
   ]
  },
  {
   "cell_type": "code",
   "execution_count": 26,
   "id": "2054751d-fea7-4e56-95fa-5b9e1135d316",
   "metadata": {},
   "outputs": [],
   "source": [
    "dict_2.update({'Course':'Data Analytics'})"
   ]
  },
  {
   "cell_type": "code",
   "execution_count": 27,
   "id": "f0827991-2aa8-40ea-a054-e06dac49687d",
   "metadata": {},
   "outputs": [
    {
     "data": {
      "text/plain": [
       "{'Name': 'Raju',\n",
       " 'Skills': ['Python', 'PowerBi', 'SQL', 'Machine Learning'],\n",
       " 'Year': [2023],\n",
       " 'Result': 'Pass',\n",
       " 'Course': 'Data Analytics'}"
      ]
     },
     "execution_count": 27,
     "metadata": {},
     "output_type": "execute_result"
    }
   ],
   "source": [
    "dict_2"
   ]
  },
  {
   "cell_type": "markdown",
   "id": "52842e72-3019-4067-8b11-0b71a683db12",
   "metadata": {},
   "source": [
    "### pop()\n",
    "* It  removes and returns an element from a dictionary having the given key."
   ]
  },
  {
   "cell_type": "code",
   "execution_count": 34,
   "id": "252f49c0-2830-42f7-b0ca-2fc6b3dbbb1b",
   "metadata": {},
   "outputs": [],
   "source": [
    "dict_3 = {'Australia': 'Canberra', 'England': 'London', 'India': 'New Delhi', 'France': 'Paris'}"
   ]
  },
  {
   "cell_type": "code",
   "execution_count": 35,
   "id": "4f4f83e8-f075-4962-9f91-a2573dfb0759",
   "metadata": {},
   "outputs": [
    {
     "data": {
      "text/plain": [
       "'London'"
      ]
     },
     "execution_count": 35,
     "metadata": {},
     "output_type": "execute_result"
    }
   ],
   "source": [
    "dict_3.pop('England')"
   ]
  },
  {
   "cell_type": "code",
   "execution_count": 36,
   "id": "daf4192f-743e-4bae-b867-052ef65acc7f",
   "metadata": {},
   "outputs": [
    {
     "data": {
      "text/plain": [
       "{'Australia': 'Canberra', 'India': 'New Delhi', 'France': 'Paris'}"
      ]
     },
     "execution_count": 36,
     "metadata": {},
     "output_type": "execute_result"
    }
   ],
   "source": [
    "dict_3"
   ]
  },
  {
   "cell_type": "markdown",
   "id": "d59889a1-14e2-4af7-8be3-65b8f54bd230",
   "metadata": {},
   "source": [
    "### COPY ()\n",
    "* It use to Make copy of a dictionary with the copy() method."
   ]
  },
  {
   "cell_type": "code",
   "execution_count": 38,
   "id": "39ec6d0d-b395-4740-8fff-c7d6ff8ef991",
   "metadata": {},
   "outputs": [
    {
     "data": {
      "text/plain": [
       "{'Australia': 'Canberra', 'India': 'New Delhi', 'France': 'Paris'}"
      ]
     },
     "execution_count": 38,
     "metadata": {},
     "output_type": "execute_result"
    }
   ],
   "source": [
    "dict_4 = dict_3.copy()\n",
    "dict_4"
   ]
  },
  {
   "cell_type": "markdown",
   "id": "280391fd-5b2b-47f7-a9cd-f18ec6268512",
   "metadata": {},
   "source": [
    "### CLEAR()\n",
    "* The clear() method removes all the element from a dictionary"
   ]
  },
  {
   "cell_type": "code",
   "execution_count": 39,
   "id": "96e48425-3feb-44cf-a857-80330f3a085b",
   "metadata": {},
   "outputs": [],
   "source": [
    "dict_5 = {'Stud1': 40, 'Stud2': 50, 'stud3': 60}"
   ]
  },
  {
   "cell_type": "code",
   "execution_count": 40,
   "id": "27eb20a9-cbaf-4cce-a178-633dafc0fece",
   "metadata": {},
   "outputs": [],
   "source": [
    "dict_5.clear()"
   ]
  },
  {
   "cell_type": "code",
   "execution_count": 41,
   "id": "06505f30-3838-4a31-b1e5-08d833fce6c0",
   "metadata": {},
   "outputs": [
    {
     "data": {
      "text/plain": [
       "{}"
      ]
     },
     "execution_count": 41,
     "metadata": {},
     "output_type": "execute_result"
    }
   ],
   "source": [
    "dict_5"
   ]
  },
  {
   "cell_type": "code",
   "execution_count": null,
   "id": "3e615505-c4cf-4706-b1ef-daf16f2ad5d7",
   "metadata": {},
   "outputs": [],
   "source": []
  }
 ],
 "metadata": {
  "kernelspec": {
   "display_name": "Python 3 (ipykernel)",
   "language": "python",
   "name": "python3"
  },
  "language_info": {
   "codemirror_mode": {
    "name": "ipython",
    "version": 3
   },
   "file_extension": ".py",
   "mimetype": "text/x-python",
   "name": "python",
   "nbconvert_exporter": "python",
   "pygments_lexer": "ipython3",
   "version": "3.11.7"
  }
 },
 "nbformat": 4,
 "nbformat_minor": 5
}
