{
 "cells": [
  {
   "cell_type": "markdown",
   "id": "8104906b-a3b0-44f6-94ee-ecdd9bda10a7",
   "metadata": {},
   "source": [
    "# Sets"
   ]
  },
  {
   "cell_type": "markdown",
   "id": "6744ee72-2ab4-49da-bd44-f17331c22c62",
   "metadata": {},
   "source": [
    "* Sets are an unordered collection of unique elements.\n",
    "* Sets cannot have duplicates.\n",
    "* Sets are mutable.\n",
    "* Eg., empty_set = () , non_empty_set = {1,6,4,'abc'}"
   ]
  },
  {
   "cell_type": "markdown",
   "id": "1c88729b-ecb3-49e0-aeda-ad459dae5ae9",
   "metadata": {},
   "source": [
    "#### add()\n",
    "* This method adds an element to a set.\n"
   ]
  },
  {
   "cell_type": "code",
   "execution_count": 6,
   "id": "38ceaea5-681c-430a-8091-6ff950c1452b",
   "metadata": {},
   "outputs": [],
   "source": [
    "set_1 = set()\n",
    "set_1.add('a')\n",
    "set_1.add(2)"
   ]
  },
  {
   "cell_type": "code",
   "execution_count": 7,
   "id": "fbb78738-34ae-4842-9718-7166d606b3a9",
   "metadata": {},
   "outputs": [
    {
     "data": {
      "text/plain": [
       "{2, 'a'}"
      ]
     },
     "execution_count": 7,
     "metadata": {},
     "output_type": "execute_result"
    }
   ],
   "source": [
    "set_1"
   ]
  },
  {
   "cell_type": "markdown",
   "id": "96d05d8c-200c-4568-844d-0da826b17662",
   "metadata": {},
   "source": [
    "#### update()\n",
    "* This method helps to add multiple elements to a set."
   ]
  },
  {
   "cell_type": "code",
   "execution_count": 10,
   "id": "24d2c064-ac5e-41af-9ec5-10b3d7ab0133",
   "metadata": {},
   "outputs": [
    {
     "name": "stdout",
     "output_type": "stream",
     "text": [
      "{2, 3, 4, 5, 6, 7}\n"
     ]
    }
   ],
   "source": [
    "set_2 = {5,6,7,3}\n",
    "set_2.update([2, 3, 4])\n",
    "print(set_2)"
   ]
  },
  {
   "cell_type": "markdown",
   "id": "401f69bc-3f59-46a3-9ea7-28c72fa2ac70",
   "metadata": {},
   "source": [
    "#### remove()\n",
    "* Remove() use to remove an element from the set."
   ]
  },
  {
   "cell_type": "code",
   "execution_count": 15,
   "id": "7e597fd9-180d-4a15-bd49-acf248b39939",
   "metadata": {},
   "outputs": [],
   "source": [
    "set_3 = {1,5,6,7,22}\n",
    "set_3.remove(5)"
   ]
  },
  {
   "cell_type": "code",
   "execution_count": 16,
   "id": "086ee0a9-4c06-4318-b827-8a185e40b4de",
   "metadata": {},
   "outputs": [
    {
     "data": {
      "text/plain": [
       "{1, 6, 7, 22}"
      ]
     },
     "execution_count": 16,
     "metadata": {},
     "output_type": "execute_result"
    }
   ],
   "source": [
    "set_3"
   ]
  },
  {
   "cell_type": "markdown",
   "id": "f3bfcfb6-87e6-4ba6-8ac6-4418ca539c8c",
   "metadata": {},
   "source": [
    "#### union()\n",
    "*  This method returns the union of two sets.\n",
    "* denoted by the operator |"
   ]
  },
  {
   "cell_type": "code",
   "execution_count": 17,
   "id": "a873ecab-cd2f-42c5-8d9b-9ada2147dd0c",
   "metadata": {},
   "outputs": [],
   "source": [
    "A = {1, 2, 3, 4, 5}\n",
    "B = {4, 5, 6, 7, 8}"
   ]
  },
  {
   "cell_type": "code",
   "execution_count": 18,
   "id": "1a2909d4-760d-4053-8272-1c9622fe6cef",
   "metadata": {},
   "outputs": [
    {
     "data": {
      "text/plain": [
       "{1, 2, 3, 4, 5, 6, 7, 8}"
      ]
     },
     "execution_count": 18,
     "metadata": {},
     "output_type": "execute_result"
    }
   ],
   "source": [
    "A.union(B)"
   ]
  },
  {
   "cell_type": "code",
   "execution_count": 19,
   "id": "d0fa1bf0-acff-46a1-ac5c-50910ead0c28",
   "metadata": {},
   "outputs": [
    {
     "data": {
      "text/plain": [
       "{1, 2, 3, 4, 5, 6, 7, 8}"
      ]
     },
     "execution_count": 19,
     "metadata": {},
     "output_type": "execute_result"
    }
   ],
   "source": [
    "A | B"
   ]
  },
  {
   "cell_type": "markdown",
   "id": "c23fe305-17d8-4a3e-af32-f2983e8df630",
   "metadata": {},
   "source": [
    "#### intersection()\n",
    "* This method returns the intersection of two sets.\n",
    "* denoted by the operator &"
   ]
  },
  {
   "cell_type": "code",
   "execution_count": 21,
   "id": "35174c41-22ab-4876-9419-cbae7c930158",
   "metadata": {},
   "outputs": [],
   "source": [
    "A = {1, 2, 3, 4, 5}\n",
    "B = {4, 5, 6, 7, 8}"
   ]
  },
  {
   "cell_type": "code",
   "execution_count": 22,
   "id": "c3349727-9a83-458b-8e70-3ab3f97f39a4",
   "metadata": {},
   "outputs": [
    {
     "data": {
      "text/plain": [
       "{4, 5}"
      ]
     },
     "execution_count": 22,
     "metadata": {},
     "output_type": "execute_result"
    }
   ],
   "source": [
    "A.intersection(B)"
   ]
  },
  {
   "cell_type": "code",
   "execution_count": 23,
   "id": "73a8b207-295c-4415-be88-e27d79357501",
   "metadata": {},
   "outputs": [
    {
     "data": {
      "text/plain": [
       "{4, 5}"
      ]
     },
     "execution_count": 23,
     "metadata": {},
     "output_type": "execute_result"
    }
   ],
   "source": [
    "A & B"
   ]
  },
  {
   "cell_type": "markdown",
   "id": "e65cda8b-8cdf-4789-a98d-bd707d350475",
   "metadata": {},
   "source": [
    "#### difference()\n",
    "* This method returns the difference of two sets.\n",
    "* denoted by the operator -"
   ]
  },
  {
   "cell_type": "code",
   "execution_count": 24,
   "id": "7c111cc7-fea9-4ac0-96d1-b4861e9f3cf8",
   "metadata": {},
   "outputs": [],
   "source": [
    "A = {1, 2, 3, 4, 5}\n",
    "B = {4, 5, 6, 7, 8}"
   ]
  },
  {
   "cell_type": "code",
   "execution_count": 25,
   "id": "388f5e73-2706-4c6e-939b-c2ad2b8c8a7e",
   "metadata": {},
   "outputs": [
    {
     "data": {
      "text/plain": [
       "{1, 2, 3}"
      ]
     },
     "execution_count": 25,
     "metadata": {},
     "output_type": "execute_result"
    }
   ],
   "source": [
    "A.difference(B)"
   ]
  },
  {
   "cell_type": "code",
   "execution_count": 26,
   "id": "e68819b7-9c5a-455c-968b-13d497d10bdc",
   "metadata": {},
   "outputs": [
    {
     "data": {
      "text/plain": [
       "{1, 2, 3}"
      ]
     },
     "execution_count": 26,
     "metadata": {},
     "output_type": "execute_result"
    }
   ],
   "source": [
    "A - B"
   ]
  },
  {
   "cell_type": "code",
   "execution_count": 27,
   "id": "82c9d338-2a36-4fef-b8ca-dcc420b9e5ec",
   "metadata": {},
   "outputs": [
    {
     "data": {
      "text/plain": [
       "{6, 7, 8}"
      ]
     },
     "execution_count": 27,
     "metadata": {},
     "output_type": "execute_result"
    }
   ],
   "source": [
    "B.difference(A)"
   ]
  },
  {
   "cell_type": "code",
   "execution_count": 28,
   "id": "5cbf5a90-218a-4477-b30e-c005275c59e5",
   "metadata": {},
   "outputs": [
    {
     "data": {
      "text/plain": [
       "{6, 7, 8}"
      ]
     },
     "execution_count": 28,
     "metadata": {},
     "output_type": "execute_result"
    }
   ],
   "source": [
    "B - A"
   ]
  },
  {
   "cell_type": "markdown",
   "id": "efcaa461-07b0-4790-ba82-66d26c1b4f8d",
   "metadata": {},
   "source": [
    "#### symmetric_difference()\n",
    "* This method returns the set of elements in A and B but not in both (excluding the intersection).\n",
    "* denoted by the operator ^"
   ]
  },
  {
   "cell_type": "code",
   "execution_count": 30,
   "id": "bccefbed-40e7-4fba-b12a-bc88861fd436",
   "metadata": {},
   "outputs": [],
   "source": [
    "A = {1, 2, 3, 4, 5}\n",
    "B = {4, 5, 6, 7, 8}"
   ]
  },
  {
   "cell_type": "code",
   "execution_count": 31,
   "id": "858f3c30-28ac-47e7-85cb-8256c5830eb9",
   "metadata": {},
   "outputs": [
    {
     "data": {
      "text/plain": [
       "{1, 2, 3, 6, 7, 8}"
      ]
     },
     "execution_count": 31,
     "metadata": {},
     "output_type": "execute_result"
    }
   ],
   "source": [
    "A.symmetric_difference(B)"
   ]
  },
  {
   "cell_type": "code",
   "execution_count": 32,
   "id": "040afc92-0e72-4dd2-83e8-4bb0d12fc673",
   "metadata": {},
   "outputs": [
    {
     "data": {
      "text/plain": [
       "{1, 2, 3, 6, 7, 8}"
      ]
     },
     "execution_count": 32,
     "metadata": {},
     "output_type": "execute_result"
    }
   ],
   "source": [
    "A^B"
   ]
  },
  {
   "cell_type": "markdown",
   "id": "f5bfa375-27c1-4696-8281-b603201076c2",
   "metadata": {},
   "source": [
    "#### discard()\n",
    "* It Removes an element elem from the set."
   ]
  },
  {
   "cell_type": "code",
   "execution_count": 36,
   "id": "bca279f3-23d3-416f-856f-b287c93dfea0",
   "metadata": {},
   "outputs": [
    {
     "data": {
      "text/plain": [
       "{21, 23, 27, 56, 86}"
      ]
     },
     "execution_count": 36,
     "metadata": {},
     "output_type": "execute_result"
    }
   ],
   "source": [
    "set_4 = {21, 23, 44, 56, 86, 27}\n",
    "set_4.discard(44)\n",
    "set_4"
   ]
  },
  {
   "cell_type": "code",
   "execution_count": null,
   "id": "d772c8fd-f209-48d6-88f7-89abc49c2227",
   "metadata": {},
   "outputs": [],
   "source": []
  }
 ],
 "metadata": {
  "kernelspec": {
   "display_name": "Python 3 (ipykernel)",
   "language": "python",
   "name": "python3"
  },
  "language_info": {
   "codemirror_mode": {
    "name": "ipython",
    "version": 3
   },
   "file_extension": ".py",
   "mimetype": "text/x-python",
   "name": "python",
   "nbconvert_exporter": "python",
   "pygments_lexer": "ipython3",
   "version": "3.11.7"
  }
 },
 "nbformat": 4,
 "nbformat_minor": 5
}
