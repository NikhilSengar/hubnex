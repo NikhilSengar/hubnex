{
 "cells": [
  {
   "cell_type": "markdown",
   "id": "9c0aed02-88ae-4b42-9233-befff9b80dd2",
   "metadata": {},
   "source": [
    "####  Write function for if number is even then return minimum of them, if number is odd then return maximum.\n"
   ]
  },
  {
   "cell_type": "code",
   "execution_count": 7,
   "id": "05da7143-7b61-4dc0-8135-1d3363a35734",
   "metadata": {},
   "outputs": [],
   "source": [
    "def lesser_of_two_evens(a,b):\n",
    "    if a%2 == 0 and b%2 == 0:\n",
    "        return min(a,b)\n",
    "    else:\n",
    "        return max(a,b)"
   ]
  },
  {
   "cell_type": "code",
   "execution_count": 8,
   "id": "9f5d873d-b59c-44c1-b6b3-d665b939d6aa",
   "metadata": {},
   "outputs": [
    {
     "data": {
      "text/plain": [
       "2"
      ]
     },
     "execution_count": 8,
     "metadata": {},
     "output_type": "execute_result"
    }
   ],
   "source": [
    "lesser_of_two_evens(2,6)"
   ]
  },
  {
   "cell_type": "code",
   "execution_count": 9,
   "id": "9356ef00-910d-4267-b912-e03bb5bd88b2",
   "metadata": {},
   "outputs": [
    {
     "data": {
      "text/plain": [
       "17"
      ]
     },
     "execution_count": 9,
     "metadata": {},
     "output_type": "execute_result"
    }
   ],
   "source": [
    "lesser_of_two_evens(15,17)"
   ]
  },
  {
   "cell_type": "markdown",
   "id": "627332a8-8e3b-44a4-8fa8-67a5f564811b",
   "metadata": {},
   "source": [
    "### Write function for the creating dictionary of students details."
   ]
  },
  {
   "cell_type": "code",
   "execution_count": 17,
   "id": "67fef053-e9d3-45cf-84a3-497571edf535",
   "metadata": {},
   "outputs": [],
   "source": [
    "def student_details(name, section, marks):\n",
    "    my_dict = {\"Name\": name, \"Section\": section, \"Marks\": marks}\n",
    "    return my_dict"
   ]
  },
  {
   "cell_type": "code",
   "execution_count": 22,
   "id": "b54692f6-8735-43bc-b2f7-b69419edc934",
   "metadata": {},
   "outputs": [
    {
     "name": "stdout",
     "output_type": "stream",
     "text": [
      "{'Name': 'Raju', 'Section': 'A', 'Marks': {'s1': 45, 's2': 65, 's3': 63, 's4': 85, 's5': 91}}\n"
     ]
    }
   ],
   "source": [
    "student1 = student_details('Raju', 'A', {'s1':45, 's2':65, 's3':63, 's4':85,'s5':91})\n",
    "print(student1)"
   ]
  },
  {
   "cell_type": "code",
   "execution_count": 23,
   "id": "54db3f15-73b3-48cc-9317-a79eff3aae6c",
   "metadata": {},
   "outputs": [
    {
     "name": "stdout",
     "output_type": "stream",
     "text": [
      "{'Name': 'Babu Bhaiya', 'Section': 'B', 'Marks': {'s1': 55, 's2': 68, 's3': 73, 's4': 82, 's5': 61}}\n"
     ]
    }
   ],
   "source": [
    "student2 = student_details('Babu Bhaiya', 'B', {'s1':55, 's2':68, 's3':73, 's4':82,'s5':61})\n",
    "print(student2)"
   ]
  },
  {
   "cell_type": "code",
   "execution_count": null,
   "id": "96e82f64-8ef7-4ff3-a6e9-39f5e260770b",
   "metadata": {},
   "outputs": [],
   "source": []
  }
 ],
 "metadata": {
  "kernelspec": {
   "display_name": "Python 3 (ipykernel)",
   "language": "python",
   "name": "python3"
  },
  "language_info": {
   "codemirror_mode": {
    "name": "ipython",
    "version": 3
   },
   "file_extension": ".py",
   "mimetype": "text/x-python",
   "name": "python",
   "nbconvert_exporter": "python",
   "pygments_lexer": "ipython3",
   "version": "3.11.7"
  }
 },
 "nbformat": 4,
 "nbformat_minor": 5
}
